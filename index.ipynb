{
 "cells": [
  {
   "cell_type": "markdown",
   "metadata": {},
   "source": [
    "# COVID in Santa Barbara County\n",
    "\n",
    "Tracking how Santa Barbara County is faring with COVID-19.  The data comes from the [Santa Barbara County Public Health Department](http://www.countyofsb.org/phd/), which is updated every weekday; this page is updated weekly.\n",
    "\n",
    "Hat tip to [Chris Lortie](https://cjlortie.github.io/SBC_Covid_Trends/) for the idea."
   ]
  },
  {
   "cell_type": "code",
   "execution_count": 1,
   "metadata": {},
   "outputs": [],
   "source": [
    "from math import log\n",
    "import pandas as pd\n",
    "import matplotlib.pyplot as plt"
   ]
  },
  {
   "cell_type": "markdown",
   "metadata": {},
   "source": [
    "Load the data, which was previously scraped from the Department website using [this script](scrape.html).  The data is cumulative total confirmed cases broken down by date and by geographic area within the county."
   ]
  },
  {
   "cell_type": "code",
   "execution_count": 2,
   "metadata": {},
   "outputs": [
    {
     "data": {
      "text/html": [
       "<div>\n",
       "<style scoped>\n",
       "    .dataframe tbody tr th:only-of-type {\n",
       "        vertical-align: middle;\n",
       "    }\n",
       "\n",
       "    .dataframe tbody tr th {\n",
       "        vertical-align: top;\n",
       "    }\n",
       "\n",
       "    .dataframe thead th {\n",
       "        text-align: right;\n",
       "    }\n",
       "</style>\n",
       "<table border=\"1\" class=\"dataframe\">\n",
       "  <thead>\n",
       "    <tr style=\"text-align: right;\">\n",
       "      <th></th>\n",
       "      <th>area</th>\n",
       "      <th>cases</th>\n",
       "      <th>date</th>\n",
       "    </tr>\n",
       "  </thead>\n",
       "  <tbody>\n",
       "    <tr>\n",
       "      <th>0</th>\n",
       "      <td>SOUTH COUNTY UNINCORPORATED AREA includes comm...</td>\n",
       "      <td>948</td>\n",
       "      <td>2021-01-20</td>\n",
       "    </tr>\n",
       "    <tr>\n",
       "      <th>1</th>\n",
       "      <td>CITY OF SANTA BARBARA and the unincorporated a...</td>\n",
       "      <td>4465</td>\n",
       "      <td>2021-01-20</td>\n",
       "    </tr>\n",
       "    <tr>\n",
       "      <th>2</th>\n",
       "      <td>CITY OF GOLETA</td>\n",
       "      <td>1291</td>\n",
       "      <td>2021-01-20</td>\n",
       "    </tr>\n",
       "    <tr>\n",
       "      <th>3</th>\n",
       "      <td>COMMUNITY OF ISLA VISTA</td>\n",
       "      <td>835</td>\n",
       "      <td>2021-01-20</td>\n",
       "    </tr>\n",
       "    <tr>\n",
       "      <th>4</th>\n",
       "      <td>UNINCORPORATED AREA OF THE GOLETA VALLEY AND G...</td>\n",
       "      <td>847</td>\n",
       "      <td>2021-01-20</td>\n",
       "    </tr>\n",
       "  </tbody>\n",
       "</table>\n",
       "</div>"
      ],
      "text/plain": [
       "                                                area  cases       date\n",
       "0  SOUTH COUNTY UNINCORPORATED AREA includes comm...    948 2021-01-20\n",
       "1  CITY OF SANTA BARBARA and the unincorporated a...   4465 2021-01-20\n",
       "2                                     CITY OF GOLETA   1291 2021-01-20\n",
       "3                            COMMUNITY OF ISLA VISTA    835 2021-01-20\n",
       "4  UNINCORPORATED AREA OF THE GOLETA VALLEY AND G...    847 2021-01-20"
      ]
     },
     "execution_count": 2,
     "metadata": {},
     "output_type": "execute_result"
    }
   ],
   "source": [
    "raw_data = pd.read_csv(\"data/data.csv\", parse_dates=[\"date\"])\n",
    "raw_data.head()"
   ]
  },
  {
   "cell_type": "code",
   "execution_count": 3,
   "metadata": {},
   "outputs": [
    {
     "data": {
      "text/plain": [
       "(Timestamp('2020-04-27 00:00:00'), Timestamp('2021-01-20 00:00:00'))"
      ]
     },
     "execution_count": 3,
     "metadata": {},
     "output_type": "execute_result"
    }
   ],
   "source": [
    "raw_data.date.min(), raw_data.date.max()"
   ]
  },
  {
   "cell_type": "markdown",
   "metadata": {},
   "source": [
    "Sanity check: for each geographic area, the numbers of cases, being cumulative totals, should increase monotonically over time.  But this being the real world, in a few cases they don't.  Perhaps decreasing case numbers reflect corrections?"
   ]
  },
  {
   "cell_type": "code",
   "execution_count": 4,
   "metadata": {},
   "outputs": [
    {
     "data": {
      "text/html": [
       "<div>\n",
       "<style scoped>\n",
       "    .dataframe tbody tr th:only-of-type {\n",
       "        vertical-align: middle;\n",
       "    }\n",
       "\n",
       "    .dataframe tbody tr th {\n",
       "        vertical-align: top;\n",
       "    }\n",
       "\n",
       "    .dataframe thead th {\n",
       "        text-align: right;\n",
       "    }\n",
       "</style>\n",
       "<table border=\"1\" class=\"dataframe\">\n",
       "  <thead>\n",
       "    <tr style=\"text-align: right;\">\n",
       "      <th></th>\n",
       "      <th>area</th>\n",
       "      <th>cases</th>\n",
       "      <th>date</th>\n",
       "      <th>delta</th>\n",
       "    </tr>\n",
       "  </thead>\n",
       "  <tbody>\n",
       "    <tr>\n",
       "      <th>1807</th>\n",
       "      <td>FEDERAL PRISON IN LOMPOC</td>\n",
       "      <td>984</td>\n",
       "      <td>2020-07-08</td>\n",
       "      <td>-10.0</td>\n",
       "    </tr>\n",
       "    <tr>\n",
       "      <th>2270</th>\n",
       "      <td>FEDERAL PRISON IN LOMPOC</td>\n",
       "      <td>893</td>\n",
       "      <td>2020-05-14</td>\n",
       "      <td>-3.0</td>\n",
       "    </tr>\n",
       "    <tr>\n",
       "      <th>1500</th>\n",
       "      <td>SOUTH COUNTY UNINCORPORATED AREA includes comm...</td>\n",
       "      <td>166</td>\n",
       "      <td>2020-08-12</td>\n",
       "      <td>-2.0</td>\n",
       "    </tr>\n",
       "    <tr>\n",
       "      <th>1183</th>\n",
       "      <td>FEDERAL PRISON IN LOMPOC</td>\n",
       "      <td>1024</td>\n",
       "      <td>2020-09-21</td>\n",
       "      <td>-2.0</td>\n",
       "    </tr>\n",
       "    <tr>\n",
       "      <th>932</th>\n",
       "      <td>CITY OF SANTA MARIA</td>\n",
       "      <td>4089</td>\n",
       "      <td>2020-10-20</td>\n",
       "      <td>-2.0</td>\n",
       "    </tr>\n",
       "    <tr>\n",
       "      <th>2403</th>\n",
       "      <td>CITY OF SANTA MARIA</td>\n",
       "      <td>139</td>\n",
       "      <td>2020-05-02</td>\n",
       "      <td>-2.0</td>\n",
       "    </tr>\n",
       "    <tr>\n",
       "      <th>2333</th>\n",
       "      <td>UNINCORPORATED AREA OF THE GOLETA VALLEY AND G...</td>\n",
       "      <td>15</td>\n",
       "      <td>2020-05-08</td>\n",
       "      <td>-1.0</td>\n",
       "    </tr>\n",
       "    <tr>\n",
       "      <th>2323</th>\n",
       "      <td>SANTA YNEZ VALLEY including the Cities of Solv...</td>\n",
       "      <td>7</td>\n",
       "      <td>2020-05-09</td>\n",
       "      <td>-1.0</td>\n",
       "    </tr>\n",
       "    <tr>\n",
       "      <th>2320</th>\n",
       "      <td>CITY OF GOLETA</td>\n",
       "      <td>10</td>\n",
       "      <td>2020-05-09</td>\n",
       "      <td>-1.0</td>\n",
       "    </tr>\n",
       "    <tr>\n",
       "      <th>2318</th>\n",
       "      <td>SOUTH COUNTY UNINCORPORATED AREA includes comm...</td>\n",
       "      <td>23</td>\n",
       "      <td>2020-05-09</td>\n",
       "      <td>-1.0</td>\n",
       "    </tr>\n",
       "  </tbody>\n",
       "</table>\n",
       "</div>"
      ],
      "text/plain": [
       "                                                   area  cases       date  \\\n",
       "1807                           FEDERAL PRISON IN LOMPOC    984 2020-07-08   \n",
       "2270                           FEDERAL PRISON IN LOMPOC    893 2020-05-14   \n",
       "1500  SOUTH COUNTY UNINCORPORATED AREA includes comm...    166 2020-08-12   \n",
       "1183                           FEDERAL PRISON IN LOMPOC   1024 2020-09-21   \n",
       "932                                 CITY OF SANTA MARIA   4089 2020-10-20   \n",
       "2403                                CITY OF SANTA MARIA    139 2020-05-02   \n",
       "2333  UNINCORPORATED AREA OF THE GOLETA VALLEY AND G...     15 2020-05-08   \n",
       "2323  SANTA YNEZ VALLEY including the Cities of Solv...      7 2020-05-09   \n",
       "2320                                     CITY OF GOLETA     10 2020-05-09   \n",
       "2318  SOUTH COUNTY UNINCORPORATED AREA includes comm...     23 2020-05-09   \n",
       "\n",
       "      delta  \n",
       "1807  -10.0  \n",
       "2270   -3.0  \n",
       "1500   -2.0  \n",
       "1183   -2.0  \n",
       "932    -2.0  \n",
       "2403   -2.0  \n",
       "2333   -1.0  \n",
       "2323   -1.0  \n",
       "2320   -1.0  \n",
       "2318   -1.0  "
      ]
     },
     "execution_count": 4,
     "metadata": {},
     "output_type": "execute_result"
    }
   ],
   "source": [
    "raw_data.assign(\n",
    "    delta=raw_data.sort_values(\"date\").groupby(\"area\")[\"cases\"].diff()\n",
    ").query(\"delta < 0\").sort_values(\"delta\").head(10)"
   ]
  },
  {
   "cell_type": "markdown",
   "metadata": {},
   "source": [
    "Ignoring that, for simplicity we consolidate geographic areas into two regions, north county and south county.  There's no firm dividing line, but below is the definition we use.  Notice that the Lompoc prison is excluded.  To smooth the data we downsample it to weeks instead of days. Because we're working with cumulative totals, we can do this simply by selecting all the Wednesdays (Wednesday because it avoids problems caused by missing data on weekends and holidays)."
   ]
  },
  {
   "cell_type": "code",
   "execution_count": 5,
   "metadata": {},
   "outputs": [
    {
     "data": {
      "text/html": [
       "<div>\n",
       "<style scoped>\n",
       "    .dataframe tbody tr th:only-of-type {\n",
       "        vertical-align: middle;\n",
       "    }\n",
       "\n",
       "    .dataframe tbody tr th {\n",
       "        vertical-align: top;\n",
       "    }\n",
       "\n",
       "    .dataframe thead th {\n",
       "        text-align: right;\n",
       "    }\n",
       "</style>\n",
       "<table border=\"1\" class=\"dataframe\">\n",
       "  <thead>\n",
       "    <tr style=\"text-align: right;\">\n",
       "      <th></th>\n",
       "      <th></th>\n",
       "      <th>cases</th>\n",
       "    </tr>\n",
       "    <tr>\n",
       "      <th>region</th>\n",
       "      <th>date</th>\n",
       "      <th></th>\n",
       "    </tr>\n",
       "  </thead>\n",
       "  <tbody>\n",
       "    <tr>\n",
       "      <th rowspan=\"5\" valign=\"top\">north</th>\n",
       "      <th>2020-04-29</th>\n",
       "      <td>271</td>\n",
       "    </tr>\n",
       "    <tr>\n",
       "      <th>2020-05-06</th>\n",
       "      <td>311</td>\n",
       "    </tr>\n",
       "    <tr>\n",
       "      <th>2020-05-13</th>\n",
       "      <td>348</td>\n",
       "    </tr>\n",
       "    <tr>\n",
       "      <th>2020-05-20</th>\n",
       "      <td>404</td>\n",
       "    </tr>\n",
       "    <tr>\n",
       "      <th>2020-05-27</th>\n",
       "      <td>486</td>\n",
       "    </tr>\n",
       "  </tbody>\n",
       "</table>\n",
       "</div>"
      ],
      "text/plain": [
       "                   cases\n",
       "region date             \n",
       "north  2020-04-29    271\n",
       "       2020-05-06    311\n",
       "       2020-05-13    348\n",
       "       2020-05-20    404\n",
       "       2020-05-27    486"
      ]
     },
     "execution_count": 5,
     "metadata": {},
     "output_type": "execute_result"
    }
   ],
   "source": [
    "regions = {\n",
    "    \"south\": [\n",
    "        \"SOUTH COUNTY UNINCORPORATED AREA includes communities of Montecito, Summerland and the City of Carpinteria\",\n",
    "        \"CITY OF SANTA BARBARA and the unincorporated area of Mission Canyon\",\n",
    "        \"CITY OF GOLETA\",\n",
    "        \"COMMUNITY OF ISLA VISTA\",\n",
    "        \"UNINCORPORATED AREA OF THE GOLETA VALLEY AND GAVIOTA\",\n",
    "        \"SANTA YNEZ VALLEY including the Cities of Solvang & Buellton, and the communities of Santa Ynez, Los Alamos, Los Olivos and Ballard\"\n",
    "    ],\n",
    "    \"north\": [\n",
    "        \"CITY OF LOMPOC and the communities of Mission Hills and Vandenberg Village\",\n",
    "        \"CITY OF SANTA MARIA\",\n",
    "        \"COMMUNITY OF ORCUTT\",\n",
    "        \"UNINCORPORATED AREAS of Sisquoc, Casmalia, Garey, Cuyama, New Cuyama, and the City of Guadalupe\"\n",
    "    ],\n",
    "    \"other\": [\n",
    "        \"FEDERAL PRISON IN LOMPOC\",\n",
    "        \"People incarcerated at the Federal Prison in Lompoc\",\n",
    "        \"Out of County\"\n",
    "    ],\n",
    "}\n",
    "\n",
    "region_map = {v: k for k, vlist in regions.items() for v in vlist}  # invert above mapping\n",
    "\n",
    "base_data = (\n",
    "    raw_data.assign(region=raw_data.apply(lambda row: region_map[row.area], axis=1))\n",
    "    .query(\"region != 'other'\")\n",
    "    .groupby([\"region\", \"date\"])\n",
    "    .sum()\n",
    "    .query(\"date.dt.dayofweek == 2\")\n",
    ")\n",
    "\n",
    "base_data.head()"
   ]
  },
  {
   "cell_type": "markdown",
   "metadata": {},
   "source": [
    "The data will be easier to work with if north and south cases are split into separate columns.  And it's easiest to compute the weekly deltas at the same time."
   ]
  },
  {
   "cell_type": "code",
   "execution_count": 6,
   "metadata": {},
   "outputs": [
    {
     "data": {
      "text/html": [
       "<div>\n",
       "<style scoped>\n",
       "    .dataframe tbody tr th:only-of-type {\n",
       "        vertical-align: middle;\n",
       "    }\n",
       "\n",
       "    .dataframe tbody tr th {\n",
       "        vertical-align: top;\n",
       "    }\n",
       "\n",
       "    .dataframe thead tr th {\n",
       "        text-align: left;\n",
       "    }\n",
       "\n",
       "    .dataframe thead tr:last-of-type th {\n",
       "        text-align: right;\n",
       "    }\n",
       "</style>\n",
       "<table border=\"1\" class=\"dataframe\">\n",
       "  <thead>\n",
       "    <tr>\n",
       "      <th></th>\n",
       "      <th colspan=\"2\" halign=\"left\">cases</th>\n",
       "      <th colspan=\"2\" halign=\"left\">new_cases</th>\n",
       "    </tr>\n",
       "    <tr>\n",
       "      <th>region</th>\n",
       "      <th>north</th>\n",
       "      <th>south</th>\n",
       "      <th>north</th>\n",
       "      <th>south</th>\n",
       "    </tr>\n",
       "    <tr>\n",
       "      <th>date</th>\n",
       "      <th></th>\n",
       "      <th></th>\n",
       "      <th></th>\n",
       "      <th></th>\n",
       "    </tr>\n",
       "  </thead>\n",
       "  <tbody>\n",
       "    <tr>\n",
       "      <th>2020-04-29</th>\n",
       "      <td>271</td>\n",
       "      <td>104</td>\n",
       "      <td>NaN</td>\n",
       "      <td>NaN</td>\n",
       "    </tr>\n",
       "    <tr>\n",
       "      <th>2020-05-06</th>\n",
       "      <td>311</td>\n",
       "      <td>123</td>\n",
       "      <td>40.0</td>\n",
       "      <td>19.0</td>\n",
       "    </tr>\n",
       "    <tr>\n",
       "      <th>2020-05-13</th>\n",
       "      <td>348</td>\n",
       "      <td>127</td>\n",
       "      <td>37.0</td>\n",
       "      <td>4.0</td>\n",
       "    </tr>\n",
       "    <tr>\n",
       "      <th>2020-05-20</th>\n",
       "      <td>404</td>\n",
       "      <td>139</td>\n",
       "      <td>56.0</td>\n",
       "      <td>12.0</td>\n",
       "    </tr>\n",
       "    <tr>\n",
       "      <th>2020-05-27</th>\n",
       "      <td>486</td>\n",
       "      <td>159</td>\n",
       "      <td>82.0</td>\n",
       "      <td>20.0</td>\n",
       "    </tr>\n",
       "  </tbody>\n",
       "</table>\n",
       "</div>"
      ],
      "text/plain": [
       "           cases       new_cases      \n",
       "region     north south     north south\n",
       "date                                  \n",
       "2020-04-29   271   104       NaN   NaN\n",
       "2020-05-06   311   123      40.0  19.0\n",
       "2020-05-13   348   127      37.0   4.0\n",
       "2020-05-20   404   139      56.0  12.0\n",
       "2020-05-27   486   159      82.0  20.0"
      ]
     },
     "execution_count": 6,
     "metadata": {},
     "output_type": "execute_result"
    }
   ],
   "source": [
    "base_data = base_data.assign(\n",
    "    new_cases=base_data.sort_values(\"date\").groupby(\"region\")[\"cases\"].diff()\n",
    ").unstack(level=0)\n",
    "\n",
    "base_data.head()"
   ]
  },
  {
   "cell_type": "markdown",
   "metadata": {},
   "source": [
    "## Cumulative total cases"
   ]
  },
  {
   "cell_type": "code",
   "execution_count": 7,
   "metadata": {},
   "outputs": [
    {
     "data": {
      "image/png": "[encoded data removed]",
      "text/plain": [
       "<Figure size 432x288 with 1 Axes>"
      ]
     },
     "metadata": {
      "needs_background": "light"
     },
     "output_type": "display_data"
    }
   ],
   "source": [
    "def legend():\n",
    "    plt.legend(\n",
    "        title=\"Region\",\n",
    "        labels=[\"North county (excluding prison)\", \"South county (including SYV)\"]\n",
    "    )\n",
    "\n",
    "base_data.plot(y=[(\"cases\", \"north\"), (\"cases\", \"south\")], grid=True)\n",
    "plt.xlabel(\"Date\")\n",
    "plt.ylabel(\"Cumulative total cases\")\n",
    "legend()"
   ]
  },
  {
   "cell_type": "markdown",
   "metadata": {},
   "source": [
    "## Weekly new cases"
   ]
  },
  {
   "cell_type": "code",
   "execution_count": 8,
   "metadata": {},
   "outputs": [
    {
     "data": {
      "image/png": "[encoded data removed]",
      "text/plain": [
       "<Figure size 432x288 with 1 Axes>"
      ]
     },
     "metadata": {
      "needs_background": "light"
     },
     "output_type": "display_data"
    }
   ],
   "source": [
    "base_data.dropna().plot(y=[(\"new_cases\", \"north\"), (\"new_cases\", \"south\")], grid=True)\n",
    "plt.xlabel(\"Date\")\n",
    "plt.ylabel(\"Weekly new cases\")\n",
    "legend()"
   ]
  },
  {
   "cell_type": "markdown",
   "metadata": {},
   "source": [
    "## Trajectory\n",
    "\n",
    "Are we controlling the virus, or is it still spreading uncontrollably?  Following [Aatish Bhatia](https://aatishb.com/covidtrends/), we plot weekly new cases versus cumulative total cases.  The idea is that as long as the virus is spreading exponentially, the number of new cases arising is proportional to the total number of cases at any given time. When plotted, such growth appears as a straight line.  If/when the virus is controlled, the graph will plummet downward.\n",
    "\n",
    "Note that time is implicit here.  The graphs for each region evolve left to right, but not necessarily at a uniform rate, and not necessarily at the same rate."
   ]
  },
  {
   "cell_type": "code",
   "execution_count": 9,
   "metadata": {},
   "outputs": [
    {
     "data": {
      "image/png": "[encoded data removed]",
      "text/plain": [
       "<Figure size 432x288 with 1 Axes>"
      ]
     },
     "metadata": {
      "needs_background": "light"
     },
     "output_type": "display_data"
    }
   ],
   "source": [
    "ax = plt.gca()\n",
    "for region in [\"north\", \"south\"]:\n",
    "    base_data.dropna().plot(\n",
    "        ax=ax,\n",
    "        x=(\"cases\", region),\n",
    "        y=[(\"new_cases\", region)],\n",
    "        style=\"-o\",\n",
    "        markevery=[-1],\n",
    "        loglog=True,\n",
    "        grid=True\n",
    "    )\n",
    "plt.xlabel(\"Cumulative total cases\")\n",
    "plt.ylabel(\"Weekly new cases\")\n",
    "legend()"
   ]
  },
  {
   "cell_type": "markdown",
   "metadata": {},
   "source": [
    "## Growth rate\n",
    "\n",
    "How fast is the virus spreading?  I.e., what growth rate does the general slope of the above graphs represent?  Looking at north county growth over the first 13 weeks for which we have data (i.e., when the cumulative number of cases in that region went from approximately 300 to approximately 3,000), we can compute from ${\\it week}_1 \\cdot {\\it growth\\_rate}^{12} = {\\it week}_{13}$:"
   ]
  },
  {
   "cell_type": "code",
   "execution_count": 10,
   "metadata": {},
   "outputs": [
    {
     "name": "stdout",
     "output_type": "stream",
     "text": [
      "Average growth rate each week: 22%\n",
      "Doubling time in weeks: 3.4\n"
     ]
    }
   ],
   "source": [
    "data = base_data.sort_values(\"date\")\n",
    "column = (\"cases\", \"north\")\n",
    "growth_rate = (data.iloc[12][column]/data.iloc[0][column])**(1/12)\n",
    "doubling_time = log(2)/log(growth_rate)  # weeks\n",
    "\n",
    "print(f\"Average growth rate each week: {int(round((growth_rate-1)*100))}%\")\n",
    "print(\"Doubling time in weeks:\", round(doubling_time, 1))"
   ]
  },
  {
   "cell_type": "markdown",
   "metadata": {},
   "source": [
    "Caveat: case counts are affected by the prevalence of testing and other factors."
   ]
  }
 ],
 "metadata": {
  "kernelspec": {
   "display_name": "Python 3",
   "language": "python",
   "name": "python3"
  },
  "language_info": {
   "codemirror_mode": {
    "name": "ipython",
    "version": 3
   },
   "file_extension": ".py",
   "mimetype": "text/x-python",
   "name": "python",
   "nbconvert_exporter": "python",
   "pygments_lexer": "ipython3",
   "version": "3.7.6"
  }
 },
 "nbformat": 4,
 "nbformat_minor": 4
}
