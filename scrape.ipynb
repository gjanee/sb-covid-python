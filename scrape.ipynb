{
 "cells": [
  {
   "cell_type": "markdown",
   "metadata": {},
   "source": [
    "# Scraping SBCPHD\n",
    "\n",
    "The code here scrapes the Santa Barbara County Public Health Department's [COVID-19 status page](https://publichealthsbc.org/status-reports/) for case counts.  It's hard to imagine how they could have made the data harder to extract, seeing as what is counted, how it is counted, and how counts are presented have all changed multiple times since the pandemic began.  Our goal is to extract cumulative total confirmed cases (only) broken down by date and by geographic area within the county.  Without going to significantly more work, this is possible only as far back as April 27, 2020.\n",
    "\n",
    "The data frequency is daily, except for weekends and holidays."
   ]
  },
  {
   "cell_type": "code",
   "execution_count": 1,
   "metadata": {},
   "outputs": [],
   "source": [
    "import lxml.html, re\n",
    "import pandas as pd\n",
    "\n",
    "# Unicode characters\n",
    "nbsp = chr(0x00A0)\n",
    "emdash = chr(0x2014)\n",
    "\n",
    "url = \"https://publichealthsbc.org/status-reports/\""
   ]
  },
  {
   "cell_type": "markdown",
   "metadata": {},
   "source": [
    "The page can be loaded live, but here we assume that the page has already been downloaded via `wget` or other.  There are a few places where non-breaking spaces appear in column names and values, making them difficult to work with, so we just remove the spaces entirely."
   ]
  },
  {
   "cell_type": "code",
   "execution_count": 2,
   "metadata": {},
   "outputs": [],
   "source": [
    "raw_page = open(\"data/cache.html\").read().replace(nbsp, \"\")\n",
    "page = lxml.html.fromstring(raw_page)"
   ]
  },
  {
   "cell_type": "markdown",
   "metadata": {},
   "source": [
    "Each day's data is contained in a pair of adjacent sibling `<div>`'s, the first of which contains the date inside a hyperlink (a couple different formats are used for the date), the second of which contains the data table we want (mixed in with other tables and content in variable order).  We identify the table we want by looking for the presence of key column names.  The cases column name might be \"Confirmed Cases\" or \"Total Confirmed Cases\".\n",
    "\n",
    "`blocks` is a list of HTML elements representing the first `<div>` in each pair."
   ]
  },
  {
   "cell_type": "code",
   "execution_count": 3,
   "metadata": {},
   "outputs": [],
   "source": [
    "table_constraint = (\n",
    "    \"descendant::td//text()[contains(.,'Geographic Area')]\"\n",
    "    \" and \"\n",
    "    \"descendant::td//text()[contains(.,'Confirmed Cases')]\"\n",
    ")\n",
    "\n",
    "blocks = page.xpath(\n",
    "    \"//div[starts-with(@id,'elementor-tab-title')]\"\n",
    "    \"[following-sibling::div/table[\" + table_constraint + \"]]\"\n",
    ")"
   ]
  },
  {
   "cell_type": "markdown",
   "metadata": {},
   "source": [
    "Extract the dates and tables.  `dates` is a list of Pandas timestamps.  `tables` is a list of Pandas dataframes."
   ]
  },
  {
   "cell_type": "code",
   "execution_count": 4,
   "metadata": {},
   "outputs": [],
   "source": [
    "dates = [\n",
    "    pd.to_datetime(re.match(r\"\\w+ \\d{1,2}, \\d{4}\", b.find(\"a\").text).group(0))\n",
    "    for b in blocks\n",
    "]\n",
    "\n",
    "tables = [\n",
    "    pd.read_html(\n",
    "        lxml.html.tostring(\n",
    "            b.xpath(\"following-sibling::div/table[\" + table_constraint + \"]\")[0]\n",
    "        ),\n",
    "        header=0\n",
    "    )[0]\n",
    "    for b in blocks\n",
    "]"
   ]
  },
  {
   "cell_type": "markdown",
   "metadata": {},
   "source": [
    "We need to join the dates to the dataframes as an additional column, concatenate the dataframes to form a single dataframe, and perform other cleanups.  This is most easily done all at once."
   ]
  },
  {
   "cell_type": "code",
   "execution_count": 5,
   "metadata": {},
   "outputs": [],
   "source": [
    "def form_df(table, date):\n",
    "    # combine a single table (dataframe) and a single date\n",
    "    if \"Total Confirmed Cases\" in table.columns:\n",
    "        colname = \"Total Confirmed Cases\"\n",
    "    else:\n",
    "        colname = \"Confirmed Cases\"\n",
    "    table = table[[\"Geographic Area\", colname]].rename(\n",
    "        columns={\"Geographic Area\": \"area\", colname: \"cases\"}\n",
    "    )\n",
    "    table[\"cases\"] = table[\"cases\"].replace(emdash, \"0\").astype(int)\n",
    "    table[\"date\"] = date  # add a date column\n",
    "    table = table[~table.area.str.contains(r\"Total|Pending\")]  # filter out non-areas\n",
    "    return table\n",
    "\n",
    "table = pd.concat(form_df(t, d) for t, d in zip(tables, dates))"
   ]
  },
  {
   "cell_type": "markdown",
   "metadata": {},
   "source": [
    "A couple more cleanups are required.  First, there are several duplicate dates.  For each of these we keep the data for the first occurrence of the date (i.e., what appears to be the most recently added data) only.  Second, the status page was modified at some point to go back only as far as June 1.  We append a cache of historical data we obtained previously to form a single table going back to April 27."
   ]
  },
  {
   "cell_type": "code",
   "execution_count": 6,
   "metadata": {},
   "outputs": [],
   "source": [
    "table = pd.concat(\n",
    "    [\n",
    "        table.drop_duplicates([\"area\", \"date\"]),\n",
    "        pd.read_csv(\"data/historical.csv\", parse_dates=[\"date\"])\n",
    "    ]\n",
    ")"
   ]
  },
  {
   "cell_type": "markdown",
   "metadata": {},
   "source": [
    "Write the data out."
   ]
  },
  {
   "cell_type": "code",
   "execution_count": 7,
   "metadata": {},
   "outputs": [],
   "source": [
    "table.to_csv(\"data/data.csv\", index=False)"
   ]
  }
 ],
 "metadata": {
  "kernelspec": {
   "display_name": "Python 3 (ipykernel)",
   "language": "python",
   "name": "python3"
  },
  "language_info": {
   "codemirror_mode": {
    "name": "ipython",
    "version": 3
   },
   "file_extension": ".py",
   "mimetype": "text/x-python",
   "name": "python",
   "nbconvert_exporter": "python",
   "pygments_lexer": "ipython3",
   "version": "3.10.8"
  }
 },
 "nbformat": 4,
 "nbformat_minor": 4
}
